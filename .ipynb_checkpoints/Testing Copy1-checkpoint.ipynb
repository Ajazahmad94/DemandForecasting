{
 "cells": [
  {
   "cell_type": "code",
   "execution_count": 1,
   "id": "306a7baa",
   "metadata": {
    "scrolled": true
   },
   "outputs": [],
   "source": [
    "import pandas as pd\n",
    "import numpy as np\n",
    "from prophet import Prophet\n",
    "from scipy.signal import find_peaks\n",
    "import math\n",
    "import ruptures as rpt\n",
    "import warnings\n",
    "#from datetime import date\n",
    "import holidays\n",
    "from hijri_converter import convert\n",
    "from datetime import date, timedelta\n",
    "from prophet.diagnostics import performance_metrics\n",
    "from prophet.diagnostics import cross_validation\n",
    "\n",
    "warnings.filterwarnings(\"ignore\")"
   ]
  },
  {
   "cell_type": "code",
   "execution_count": 2,
   "id": "6dde4b9f",
   "metadata": {},
   "outputs": [
    {
     "data": {
      "text/html": [
       "<div>\n",
       "<style scoped>\n",
       "    .dataframe tbody tr th:only-of-type {\n",
       "        vertical-align: middle;\n",
       "    }\n",
       "\n",
       "    .dataframe tbody tr th {\n",
       "        vertical-align: top;\n",
       "    }\n",
       "\n",
       "    .dataframe thead th {\n",
       "        text-align: right;\n",
       "    }\n",
       "</style>\n",
       "<table border=\"1\" class=\"dataframe\">\n",
       "  <thead>\n",
       "    <tr style=\"text-align: right;\">\n",
       "      <th></th>\n",
       "      <th>ds</th>\n",
       "      <th>y</th>\n",
       "    </tr>\n",
       "  </thead>\n",
       "  <tbody>\n",
       "    <tr>\n",
       "      <th>0</th>\n",
       "      <td>01/01/18</td>\n",
       "      <td>50930.49</td>\n",
       "    </tr>\n",
       "    <tr>\n",
       "      <th>1</th>\n",
       "      <td>01/02/18</td>\n",
       "      <td>73204.65</td>\n",
       "    </tr>\n",
       "  </tbody>\n",
       "</table>\n",
       "</div>"
      ],
      "text/plain": [
       "         ds         y\n",
       "0  01/01/18  50930.49\n",
       "1  01/02/18  73204.65"
      ]
     },
     "execution_count": 2,
     "metadata": {},
     "output_type": "execute_result"
    }
   ],
   "source": [
    "# Load and prepare the data for Prophet\n",
    "df = pd.read_csv('/home/ajaz/DemandForecasting/Data/data.csv')\n",
    "data = df.rename(columns={'TransactionDate': 'ds', 'GroupCostPrice': 'y'})\n",
    "data = data[['ds', 'y']]\n",
    "data.head(2)"
   ]
  },
  {
   "cell_type": "markdown",
   "id": "71839e03",
   "metadata": {},
   "source": [
    "### Parameter  Growth  "
   ]
  },
  {
   "cell_type": "code",
   "execution_count": 3,
   "id": "acb37e87",
   "metadata": {},
   "outputs": [
    {
     "name": "stdout",
     "output_type": "stream",
     "text": [
      "Parameter : growth=logistic\n"
     ]
    }
   ],
   "source": [
    "# Function to decide whether data['y'] is logistic or linear\n",
    "\n",
    "def detect_growth_pattern(data, curvature_threshold=0.1):\n",
    "    # Calculate second derivative (curvature)\n",
    "    curvature = np.gradient(np.gradient(data))\n",
    "    # Check if the curvature is close to zero\n",
    "    if np.abs(np.mean(curvature)) <= curvature_threshold:\n",
    "        return 'linear'\n",
    "    else:\n",
    "        return 'logistic'\n",
    "    \n",
    "# Detect growth pattern\n",
    "growth = detect_growth_pattern(data['y'])\n",
    "\n",
    "# Define a percentile value (e.g., 99th percentile)\n",
    "percentile_value = 99\n",
    "\n",
    "# Calculate the specified percentile for the cap\n",
    "cap = (np.percentile(data['y'], percentile_value)) * 1.5\n",
    "\n",
    "# Define a lower percentile value (e.g., 5th percentile) for the floor\n",
    "percentile_floor = 5\n",
    "\n",
    "# Calculate the specified percentile for the floor\n",
    "floor = np.percentile(data['y'], percentile_floor)\n",
    "#floor and cap can be used while predicting we need to add them in future_dataframe'\n",
    "print('Parameter : growth=' +growth)"
   ]
  },
  {
   "cell_type": "markdown",
   "id": "d508bd75",
   "metadata": {},
   "source": [
    "### Parameter 2: Change points PELT Algo"
   ]
  },
  {
   "cell_type": "code",
   "execution_count": 4,
   "id": "cebfafc3",
   "metadata": {},
   "outputs": [],
   "source": [
    "def calculate_penalty(data, sensitivity, cal=[6, 3, 1.5]):\n",
    "    if sensitivity == \"Low\":\n",
    "        return cal[0] * math.log(len(data))\n",
    "    elif sensitivity == \"Medium\":\n",
    "        return cal[1] * math.log(len(data))\n",
    "    elif sensitivity == \"High\":\n",
    "        return cal[2] * math.log(len(data))"
   ]
  },
  {
   "cell_type": "code",
   "execution_count": 5,
   "id": "dbd3d235",
   "metadata": {},
   "outputs": [
    {
     "data": {
      "text/html": [
       "<div>\n",
       "<style scoped>\n",
       "    .dataframe tbody tr th:only-of-type {\n",
       "        vertical-align: middle;\n",
       "    }\n",
       "\n",
       "    .dataframe tbody tr th {\n",
       "        vertical-align: top;\n",
       "    }\n",
       "\n",
       "    .dataframe thead th {\n",
       "        text-align: right;\n",
       "    }\n",
       "</style>\n",
       "<table border=\"1\" class=\"dataframe\">\n",
       "  <thead>\n",
       "    <tr style=\"text-align: right;\">\n",
       "      <th></th>\n",
       "      <th>ds</th>\n",
       "    </tr>\n",
       "  </thead>\n",
       "  <tbody>\n",
       "    <tr>\n",
       "      <th>0</th>\n",
       "      <td>2018-01-03</td>\n",
       "    </tr>\n",
       "    <tr>\n",
       "      <th>1</th>\n",
       "      <td>2018-01-08</td>\n",
       "    </tr>\n",
       "  </tbody>\n",
       "</table>\n",
       "</div>"
      ],
      "text/plain": [
       "          ds\n",
       "0 2018-01-03\n",
       "1 2018-01-08"
      ]
     },
     "execution_count": 5,
     "metadata": {},
     "output_type": "execute_result"
    }
   ],
   "source": [
    "peltdata = data['y'].values\n",
    "# You can choose between \"l1\" and \"l2\" cost functions\n",
    "model = \"l1\"  \n",
    "\n",
    "algo = rpt.Pelt(model=model, min_size=1, jump=1).fit(peltdata) \n",
    "penalty= calculate_penalty(peltdata, \"Medium\") \n",
    "result = algo.predict(pen=3) \n",
    "\n",
    "changepointDates=[]\n",
    "for index in result:\n",
    "    a=data.iloc[index-1]['ds']\n",
    "    changepointDates.append(a)\n",
    "\n",
    "changepointDates=pd.DataFrame(changepointDates, columns=['ds'])\n",
    "changepointDates['ds'] = pd.to_datetime(changepointDates['ds'])\n",
    "changepointDates.head(2)"
   ]
  },
  {
   "cell_type": "code",
   "execution_count": 6,
   "id": "3af4b6a8",
   "metadata": {},
   "outputs": [
    {
     "name": "stdout",
     "output_type": "stream",
     "text": [
      "         ds         y\n",
      "0  01/01/18  50930.49\n",
      "1  01/02/18  73204.65\n",
      "          ds\n",
      "0 2018-01-03\n",
      "1 2018-01-08\n"
     ]
    }
   ],
   "source": [
    "print(data.head(2))\n",
    "print(changepointDates.head(2))"
   ]
  },
  {
   "cell_type": "code",
   "execution_count": 7,
   "id": "5948cd83",
   "metadata": {},
   "outputs": [],
   "source": [
    "prophet_data= data\n",
    "prophet_data['cap']=cap\n",
    "prophet_data['floor']=floor\n",
    "\n",
    "#When we create the future dataframe cap and floor must also be included \n",
    "#future = model.make_future_dataframe(periods=365)  # Adjust the number of periods as needed\n",
    "#future['cap'] = cap\n",
    "#future['floor'] = floor"
   ]
  },
  {
   "cell_type": "markdown",
   "id": "c7932d27",
   "metadata": {},
   "source": [
    "## Parameter 3: Seasonality\n",
    "### Import Country Inbuilt holidays"
   ]
  },
  {
   "cell_type": "markdown",
   "id": "598f276c",
   "metadata": {},
   "source": [
    "## Import Custom Holidays"
   ]
  },
  {
   "cell_type": "markdown",
   "id": "de5072fa",
   "metadata": {},
   "source": [
    "### General Holidays\n",
    "\n",
    "def get_holidays(country_code, start_date, end_date):\n",
    "    # Create a list of dictionaries containing holiday dates and names\n",
    "    holiday_data = [{'Date': date, 'Name': name} for date, name in getattr(holidays, country_code)(years=range(start_date.year, end_date.year+1)).items()]\n",
    "\n",
    "    # Create a DataFrame from the list of dictionaries\n",
    "    holiday_df = pd.DataFrame(holiday_data)\n",
    "    return holiday_df\n",
    " \n",
    "\n",
    "\n",
    "### Specify country code and date range\n",
    "country_code = 'SA'\n",
    "start_date = date(2023, 1, 1)\n",
    "end_date = date(2024, 12, 31)\n",
    "\n",
    "### Get holidays for the specified country and date range\n",
    "general_holidays = get_holidays(country_code, start_date, end_date)\n",
    "\n",
    "### Print the DataFrame\n",
    "general_holidays"
   ]
  },
  {
   "cell_type": "markdown",
   "id": "0582917b",
   "metadata": {},
   "source": [
    "### Generate the Ramdan Days"
   ]
  },
  {
   "cell_type": "code",
   "execution_count": 11,
   "id": "b516a05f",
   "metadata": {
    "scrolled": false
   },
   "outputs": [],
   "source": [
    "def generate_ramadan_dates_df(start_year, end_year):\n",
    "    ramadan_dates = []\n",
    "\n",
    "    for year in range(start_year, end_year + 1):\n",
    "        # The Umm al-Qura calendar uses Hijri dates for Islamic months\n",
    "        hijri_year_start = convert.Gregorian(year, 1, 1).to_hijri()\n",
    "        hijri_year_end = convert.Gregorian(year, 12, 30).to_hijri()\n",
    "\n",
    "        for day in range(1, 30):  # Assuming Ramadan lasts for 29 or 30 days\n",
    "            # Find the date of Ramadan in the Hijri calendar\n",
    "            ramadan_date = convert.Hijri(hijri_year_start.year, 9, day).to_gregorian()\n",
    "\n",
    "            # Append the date to the list\n",
    "            ramadan_dates.append(ramadan_date)\n",
    "\n",
    "    # Create a DataFrame with a column named 'ramadan_dates'\n",
    "    df = pd.DataFrame({'ramadan_dates': ramadan_dates})\n",
    "    return df"
   ]
  },
  {
   "cell_type": "code",
   "execution_count": 12,
   "id": "53b891e2",
   "metadata": {},
   "outputs": [
    {
     "data": {
      "text/html": [
       "<div>\n",
       "<style scoped>\n",
       "    .dataframe tbody tr th:only-of-type {\n",
       "        vertical-align: middle;\n",
       "    }\n",
       "\n",
       "    .dataframe tbody tr th {\n",
       "        vertical-align: top;\n",
       "    }\n",
       "\n",
       "    .dataframe thead th {\n",
       "        text-align: right;\n",
       "    }\n",
       "</style>\n",
       "<table border=\"1\" class=\"dataframe\">\n",
       "  <thead>\n",
       "    <tr style=\"text-align: right;\">\n",
       "      <th></th>\n",
       "      <th>ramadan_dates</th>\n",
       "    </tr>\n",
       "  </thead>\n",
       "  <tbody>\n",
       "    <tr>\n",
       "      <th>0</th>\n",
       "      <td>2017-05-27</td>\n",
       "    </tr>\n",
       "    <tr>\n",
       "      <th>1</th>\n",
       "      <td>2017-05-28</td>\n",
       "    </tr>\n",
       "  </tbody>\n",
       "</table>\n",
       "</div>"
      ],
      "text/plain": [
       "  ramadan_dates\n",
       "0    2017-05-27\n",
       "1    2017-05-28"
      ]
     },
     "execution_count": 12,
     "metadata": {},
     "output_type": "execute_result"
    }
   ],
   "source": [
    "### Example usage:\n",
    "start_year = 2017\n",
    "end_year = 2025\n",
    "ramadan_dates_df = generate_ramadan_dates_df(start_year, end_year)\n",
    "ramadan_dates_df.head(2)"
   ]
  },
  {
   "cell_type": "markdown",
   "id": "49e135fd",
   "metadata": {},
   "source": [
    "## Generate Weekends"
   ]
  },
  {
   "cell_type": "code",
   "execution_count": 13,
   "id": "87989fbf",
   "metadata": {},
   "outputs": [],
   "source": [
    "def generate_weekends(start_date, end_date, holiday_days):\n",
    "    # Replace 'US' with the appropriate country code for your holidays\n",
    "    us_holidays = holidays.SaudiArabia(years=2024)\n",
    "\n",
    "    weekends = []\n",
    "    current_date = start_date\n",
    "\n",
    "    while current_date <= end_date:\n",
    "        # Check if the current date is a weekend and not a holiday\n",
    "        if current_date.weekday() in holiday_days and current_date not in us_holidays:\n",
    "            weekends.append(current_date)\n",
    "        current_date += timedelta(days=1)\n",
    "\n",
    "    return weekends"
   ]
  },
  {
   "cell_type": "code",
   "execution_count": 16,
   "id": "2d4acdfa",
   "metadata": {
    "scrolled": true
   },
   "outputs": [
    {
     "data": {
      "text/html": [
       "<div>\n",
       "<style scoped>\n",
       "    .dataframe tbody tr th:only-of-type {\n",
       "        vertical-align: middle;\n",
       "    }\n",
       "\n",
       "    .dataframe tbody tr th {\n",
       "        vertical-align: top;\n",
       "    }\n",
       "\n",
       "    .dataframe thead th {\n",
       "        text-align: right;\n",
       "    }\n",
       "</style>\n",
       "<table border=\"1\" class=\"dataframe\">\n",
       "  <thead>\n",
       "    <tr style=\"text-align: right;\">\n",
       "      <th></th>\n",
       "      <th>Date</th>\n",
       "      <th>Day</th>\n",
       "    </tr>\n",
       "  </thead>\n",
       "  <tbody>\n",
       "    <tr>\n",
       "      <th>0</th>\n",
       "      <td>2018-01-05</td>\n",
       "      <td>Friday</td>\n",
       "    </tr>\n",
       "    <tr>\n",
       "      <th>1</th>\n",
       "      <td>2018-01-06</td>\n",
       "      <td>Saturday</td>\n",
       "    </tr>\n",
       "    <tr>\n",
       "      <th>2</th>\n",
       "      <td>2018-01-12</td>\n",
       "      <td>Friday</td>\n",
       "    </tr>\n",
       "    <tr>\n",
       "      <th>3</th>\n",
       "      <td>2018-01-13</td>\n",
       "      <td>Saturday</td>\n",
       "    </tr>\n",
       "    <tr>\n",
       "      <th>4</th>\n",
       "      <td>2018-01-19</td>\n",
       "      <td>Friday</td>\n",
       "    </tr>\n",
       "    <tr>\n",
       "      <th>...</th>\n",
       "      <td>...</td>\n",
       "      <td>...</td>\n",
       "    </tr>\n",
       "    <tr>\n",
       "      <th>707</th>\n",
       "      <td>2024-12-14</td>\n",
       "      <td>Saturday</td>\n",
       "    </tr>\n",
       "    <tr>\n",
       "      <th>708</th>\n",
       "      <td>2024-12-20</td>\n",
       "      <td>Friday</td>\n",
       "    </tr>\n",
       "    <tr>\n",
       "      <th>709</th>\n",
       "      <td>2024-12-21</td>\n",
       "      <td>Saturday</td>\n",
       "    </tr>\n",
       "    <tr>\n",
       "      <th>710</th>\n",
       "      <td>2024-12-27</td>\n",
       "      <td>Friday</td>\n",
       "    </tr>\n",
       "    <tr>\n",
       "      <th>711</th>\n",
       "      <td>2024-12-28</td>\n",
       "      <td>Saturday</td>\n",
       "    </tr>\n",
       "  </tbody>\n",
       "</table>\n",
       "<p>712 rows × 2 columns</p>\n",
       "</div>"
      ],
      "text/plain": [
       "           Date       Day\n",
       "0    2018-01-05    Friday\n",
       "1    2018-01-06  Saturday\n",
       "2    2018-01-12    Friday\n",
       "3    2018-01-13  Saturday\n",
       "4    2018-01-19    Friday\n",
       "..          ...       ...\n",
       "707  2024-12-14  Saturday\n",
       "708  2024-12-20    Friday\n",
       "709  2024-12-21  Saturday\n",
       "710  2024-12-27    Friday\n",
       "711  2024-12-28  Saturday\n",
       "\n",
       "[712 rows x 2 columns]"
      ]
     },
     "execution_count": 16,
     "metadata": {},
     "output_type": "execute_result"
    }
   ],
   "source": [
    "# Replace start_date and end_date with your desired date range\n",
    "start_date = date(2018, 1, 1)\n",
    "end_date = date(2024, 12, 31)\n",
    "\n",
    "# Define which days are considered holidays (e.g., Friday and Saturday)\n",
    "custom_holiday_days = [4,5]  # 4 is Friday, 5 is Saturday, 6 Sunday\n",
    "\n",
    "weekends = generate_weekends(start_date, end_date, custom_holiday_days)\n",
    "\n",
    "# Create a DataFrame with day names and dates\n",
    "data = { 'Date': weekends,\n",
    "         'Day': [day.strftime('%A') for day in weekends]}\n",
    "\n",
    "df_weekdays = pd.DataFrame(data)\n",
    "df_weekdays"
   ]
  },
  {
   "cell_type": "code",
   "execution_count": null,
   "id": "661c9263",
   "metadata": {},
   "outputs": [],
   "source": [
    "#country_code = 'SA'  \n",
    "\n",
    "#Fitting Prophet Modell with changepointDates\n",
    "model = Prophet(growth='logistic'      \n",
    "                 ,changepoints=changepointDates['ds']     \n",
    "               )\n",
    "model.add_country_holidays(country_name='SA')\n",
    "\n",
    "model.fit(prophet_data)"
   ]
  },
  {
   "cell_type": "code",
   "execution_count": null,
   "id": "8008f11e",
   "metadata": {},
   "outputs": [],
   "source": [
    "from prophet.plot import plot_yearly\n",
    "m = Prophet(yearly_seasonality=6).fit(data)\n",
    "a = plot_yearly(m)"
   ]
  },
  {
   "cell_type": "code",
   "execution_count": null,
   "id": "427b9af6",
   "metadata": {},
   "outputs": [],
   "source": [
    "m = Prophet(weekly_seasonality=False)\n",
    "m.add_seasonality(name='monthly', period=30.5, fourier_order=5)\n",
    "#forecast = m.fit(data).predict(future)\n",
    "m"
   ]
  },
  {
   "cell_type": "code",
   "execution_count": null,
   "id": "1ae9b897",
   "metadata": {},
   "outputs": [],
   "source": [
    "m = Prophet(mcmc_samples=300, holidays=holidays_df, holidays_prior_scale=0.25, changepoint_prior_scale=0.01, seasonality_mode='multiplicative', \\\n",
    "            yearly_seasonality=10, \\\n",
    "            weekly_seasonality=True, \\\n",
    "            daily_seasonality=False)"
   ]
  },
  {
   "cell_type": "code",
   "execution_count": null,
   "id": "92c8bbfd",
   "metadata": {},
   "outputs": [],
   "source": []
  },
  {
   "cell_type": "code",
   "execution_count": null,
   "id": "749dc2d7",
   "metadata": {},
   "outputs": [],
   "source": []
  },
  {
   "cell_type": "code",
   "execution_count": null,
   "id": "9f412674",
   "metadata": {},
   "outputs": [],
   "source": []
  },
  {
   "cell_type": "code",
   "execution_count": null,
   "id": "61ec6814",
   "metadata": {},
   "outputs": [],
   "source": []
  },
  {
   "cell_type": "code",
   "execution_count": 19,
   "id": "00da9053",
   "metadata": {},
   "outputs": [],
   "source": [
    "# Multiplicative Seasonality"
   ]
  },
  {
   "cell_type": "code",
   "execution_count": null,
   "id": "ebaa9b7e",
   "metadata": {},
   "outputs": [],
   "source": [
    "m = Prophet(seasonality_mode='multiplicative')\n",
    "m.add_seasonality('quarterly', period=91.25, fourier_order=8, mode='additive')\n",
    "m.add_seasonality('monthly', period=30.5, fourier_order=10, mode='additive')\n",
    "\n",
    "m.fit(data)"
   ]
  },
  {
   "cell_type": "markdown",
   "id": "cb447941",
   "metadata": {},
   "source": [
    "# Outliers"
   ]
  },
  {
   "cell_type": "code",
   "execution_count": null,
   "id": "8f27093e",
   "metadata": {},
   "outputs": [],
   "source": [
    "# Assuming you have calculated Q1, Q3, IQR, lower_bound, and upper_bound\n",
    "# as per the previous snippet\n",
    "Q1 = data['y'].quantile(0.25)\n",
    "Q3 = data['y'].quantile(0.75)\n",
    "IQR = Q3 - Q1\n",
    "\n",
    "lower_bound = Q1 - 1.5 * IQR\n",
    "upper_bound = Q3 + 1.5 * IQR\n",
    "\n",
    "soutliers = data[((data['y'] < lower_bound) | (data['y'] > upper_bound))]\n",
    "\n",
    "# Identifying outliers\n",
    "outliers = data[((data['y'] < lower_bound) | (data['y'] > upper_bound))]\n",
    "\n",
    "# Replace outlier values with the mean\n",
    "data.loc[outliers.index, 'y'] = data['y'].mean()\n",
    "\n",
    "# Optional: Print the updated DataFrame\n",
    "data"
   ]
  },
  {
   "cell_type": "code",
   "execution_count": null,
   "id": "aadd2e00",
   "metadata": {},
   "outputs": [],
   "source": []
  },
  {
   "cell_type": "code",
   "execution_count": null,
   "id": "2067ad0e",
   "metadata": {},
   "outputs": [],
   "source": []
  },
  {
   "cell_type": "markdown",
   "id": "b48b6cf0",
   "metadata": {},
   "source": [
    "## Parameter 3.1: Seasonality with fourier Order"
   ]
  },
  {
   "cell_type": "code",
   "execution_count": null,
   "id": "569c0c0c",
   "metadata": {},
   "outputs": [],
   "source": [
    "from prophet.plot import plot_yearly\n",
    "m = Prophet(yearly_seasonality=6).fit(data)\n",
    "a = plot_yearly(m)"
   ]
  },
  {
   "cell_type": "code",
   "execution_count": null,
   "id": "07875c59",
   "metadata": {},
   "outputs": [],
   "source": [
    "from prophet.plot import plot_yearly\n",
    "m = Prophet(yearly_seasonality=20).fit(data)\n",
    "a = plot_yearly(m)"
   ]
  },
  {
   "cell_type": "code",
   "execution_count": null,
   "id": "44247380",
   "metadata": {},
   "outputs": [],
   "source": [
    "from prophet.plot import plot_yearly\n",
    "m = Prophet(yearly_seasonality=100).fit(data)\n",
    "a = plot_yearly(m)"
   ]
  },
  {
   "cell_type": "markdown",
   "id": "299d5934",
   "metadata": {},
   "source": [
    "## Add Custom Sesonality"
   ]
  },
  {
   "cell_type": "markdown",
   "id": "76a1bcc6",
   "metadata": {},
   "source": [
    "- Default: Yearly and Weekly Prophet will fit, min two cycles (2 years, 2months) needed. <br>\n",
    "- if daily data with time--> Fit Sub Daily Time Series <br>\n",
    "- If you need Monthly, Quarterly, Hourly-->    add_seasonality \n",
    "- Fourier Order, default: Weekly:3, Yearly =10"
   ]
  },
  {
   "cell_type": "code",
   "execution_count": null,
   "id": "e578cca2",
   "metadata": {},
   "outputs": [],
   "source": [
    "m = Prophet(weekly_seasonality=False)\n",
    "m.add_seasonality(name='monthly', period=30.5, fourier_order=5)\n",
    "#forecast = m.fit(data).predict(future)\n",
    "m"
   ]
  },
  {
   "cell_type": "code",
   "execution_count": null,
   "id": "54aa504c",
   "metadata": {},
   "outputs": [],
   "source": [
    "#if holidday param is overfiiting, to reduce the effect make  holidays_prior_scale=0.05 as low to reduce its effect.\n",
    "m = Prophet(holidays=holidays, holidays_prior_scale=0.05).fit(df)"
   ]
  },
  {
   "cell_type": "code",
   "execution_count": null,
   "id": "7ea7c9b5",
   "metadata": {},
   "outputs": [],
   "source": [
    "#adding custom Seasonality\n",
    "m = Prophet()\n",
    "m.add_seasonality(name='weekly', period=7, fourier_order=3, prior_scale=0.1)"
   ]
  },
  {
   "cell_type": "markdown",
   "id": "276caa0c",
   "metadata": {},
   "source": [
    " "
   ]
  },
  {
   "cell_type": "code",
   "execution_count": null,
   "id": "d7e45db5",
   "metadata": {
    "scrolled": true
   },
   "outputs": [],
   "source": [
    "m = Prophet(mcmc_samples=300, holidays=holidays_df, holidays_prior_scale=0.25, changepoint_prior_scale=0.01, seasonality_mode='multiplicative', \\\n",
    "            yearly_seasonality=10, \\\n",
    "            weekly_seasonality=True, \\\n",
    "            daily_seasonality=False)"
   ]
  },
  {
   "cell_type": "markdown",
   "id": "026ea849",
   "metadata": {},
   "source": [
    "## Seasonalities that depend on other factors\n",
    "Seasonality may depend on other factors, such as a weekly seasonal pattern that is different during the summer than it is during the rest of the year, or a daily seasonal pattern that is different on weekends vs. on weekdays"
   ]
  },
  {
   "cell_type": "markdown",
   "id": "f0c9da3b",
   "metadata": {},
   "source": [
    "## Ramadan Seasonality"
   ]
  },
  {
   "cell_type": "markdown",
   "id": "0d13528a",
   "metadata": {},
   "source": [
    "#### Adding Ramadan Season in the Training and Future Predictions as well\n",
    "\n",
    "- Create a Custom Monthly Season\n",
    "- Monthly season with ramdan\n",
    "- Monthly season without Ramadan"
   ]
  },
  {
   "cell_type": "code",
   "execution_count": null,
   "id": "93d9aa91",
   "metadata": {},
   "outputs": [],
   "source": [
    "m = Prophet(weekly_seasonality=False)\n",
    "#Need to figure out to declare Ramadan as a monthly season\n",
    "#Need to figure to decalre Months as a Monthly seasons\n",
    "\n",
    "m.add_seasonality(name='Monthly_NonRamadan_season', period=30.5, fourier_order=3, condition_name='No_Ramadan')\n",
    "m.add_seasonality(name='Monthly_Ramadan_season', period=30.5, fourier_order=3, condition_name='Ramadan_season')\n",
    "\n",
    "\n",
    "#For Predictions we must consider to generate the dates even in future dataframe mentioning Ramadan and Non Ramadan\n",
    "\n",
    "future['on_season'] = future['ds'].apply(is_nfl_season)\n",
    "future['off_season'] = ~future['ds'].apply(is_nfl_season)\n",
    "forecast = m.fit(df).predict(future)\n",
    "fig = m.plot_components(forecast)"
   ]
  },
  {
   "cell_type": "markdown",
   "id": "634a423c",
   "metadata": {},
   "source": [
    "### Dampen the effect of Ramadan or any seasonality\n",
    "- If Seasonality is overfitting, We can fix it using\n",
    "- holidays_prior_scale=0.05 \n",
    "- default holidays_prior_scale 10, reducing it will reduce holiday effect\n",
    "- m = Prophet(holidays=holidays, holidays_prior_scale=0.05).fit(df)\n",
    "- Param\n",
    "- Seasonality_prior_scale , holidays_prior_scale, prior_scale"
   ]
  },
  {
   "cell_type": "code",
   "execution_count": null,
   "id": "33d372b7",
   "metadata": {},
   "outputs": [],
   "source": [
    "m = Prophet()\n",
    "m.add_seasonality(name='weekly', period=7, fourier_order=3, prior_scale=0.1)\n",
    "#For Individual Holidays it can be set"
   ]
  },
  {
   "cell_type": "markdown",
   "id": "c3c02a3f",
   "metadata": {},
   "source": [
    "### Additional Regressors\n",
    "- Regressor value will need to be present in both the fitting and prediction dataframes\n",
    "- Extra-regressors to the model using the add_regressor method\n",
    "- The seasonality grows with the trend. \n",
    "- This is multiplicative seasonality.Time series has a clear yearly cycle but its growing"
   ]
  },
  {
   "cell_type": "code",
   "execution_count": null,
   "id": "b2182ae7",
   "metadata": {},
   "outputs": [],
   "source": [
    "m = Prophet()\n",
    "m.add_regressor('nfl_sunday')\n",
    "m.fit(df)\n",
    "\n",
    "future['nfl_sunday'] = future['ds'].apply(nfl_sunday)\n",
    "forecast = m.predict(future)"
   ]
  },
  {
   "cell_type": "markdown",
   "id": "5fc7047f",
   "metadata": {},
   "source": [
    "### Multiplicative Seasonality"
   ]
  },
  {
   "cell_type": "code",
   "execution_count": null,
   "id": "67c7ff1b",
   "metadata": {},
   "outputs": [],
   "source": []
  },
  {
   "cell_type": "markdown",
   "id": "ee442c4d",
   "metadata": {},
   "source": [
    "## Additional Regressor: Need to define special scenarios"
   ]
  },
  {
   "cell_type": "markdown",
   "id": "ce93e52f",
   "metadata": {},
   "source": [
    "#Sample we define a regressor and then fit into the data,\n",
    "\n",
    "def nfl_sunday(ds):\n",
    "    date = pd.to_datetime(ds)\n",
    "    if date.weekday() == 6 and (date.month > 8 or date.month < 2):\n",
    "        return 1\n",
    "    else:\n",
    "        return 0\n",
    "df['nfl_sunday'] = df['ds'].apply(nfl_sunday)\n",
    "\n",
    "m = Prophet()\n",
    "m.add_regressor('nfl_sunday')\n",
    "m.fit(df)\n",
    "\n",
    "future['nfl_sunday'] = future['ds'].apply(nfl_sunday)\n",
    "\n",
    "forecast = m.predict(future)\n",
    "fig = m.plot_components(forecast)"
   ]
  },
  {
   "cell_type": "markdown",
   "id": "e2702986",
   "metadata": {},
   "source": [
    "## Outliers"
   ]
  },
  {
   "cell_type": "code",
   "execution_count": null,
   "id": "6ef68f46",
   "metadata": {},
   "outputs": [],
   "source": []
  },
  {
   "cell_type": "markdown",
   "id": "33ba85af",
   "metadata": {},
   "source": [
    "## Cross Validation"
   ]
  },
  {
   "cell_type": "code",
   "execution_count": null,
   "id": "3f59fd0a",
   "metadata": {},
   "outputs": [],
   "source": [
    "# Load and prepare the data for Prophet\n",
    "df = pd.read_csv('/home/ajaz/DemandForecasting/Data/data.csv')\n",
    "data = df.rename(columns={'TransactionDate': 'ds', 'GroupCostPrice': 'y'})\n",
    "data = data[['ds', 'y']]\n",
    "data.head(2)"
   ]
  },
  {
   "cell_type": "code",
   "execution_count": null,
   "id": "b8336fb0",
   "metadata": {},
   "outputs": [],
   "source": []
  },
  {
   "cell_type": "code",
   "execution_count": null,
   "id": "b4410459",
   "metadata": {},
   "outputs": [],
   "source": [
    "# Python\n",
    "\n",
    "df_cv = cross_validation(m, initial='730 days', period='180 days', horizon = '30 days')\n",
    "df_cv.head()"
   ]
  },
  {
   "cell_type": "code",
   "execution_count": null,
   "id": "d6555bae",
   "metadata": {},
   "outputs": [],
   "source": [
    "\n",
    "df_p = performance_metrics(df_cv)\n",
    "df_p"
   ]
  },
  {
   "cell_type": "code",
   "execution_count": null,
   "id": "b1b1674e",
   "metadata": {},
   "outputs": [],
   "source": [
    "import numpy as np\n",
    "\n",
    "df_p = performance_metrics(df_cv)\n",
    "\n",
    "# Mean MAPE across all horizons\n",
    "overall_mape = np.mean(df_p['smape'])\n",
    "\n",
    "# Median MAPE (more robust to outliers)\n",
    "overall_mape_median = np.median(df_p['smape'])"
   ]
  },
  {
   "cell_type": "code",
   "execution_count": null,
   "id": "f09073e3",
   "metadata": {},
   "outputs": [],
   "source": [
    "overall_mape_median"
   ]
  },
  {
   "cell_type": "code",
   "execution_count": null,
   "id": "1420247f",
   "metadata": {},
   "outputs": [],
   "source": []
  },
  {
   "cell_type": "markdown",
   "id": "f00f7fda",
   "metadata": {},
   "source": [
    "## Hyperparameter tuning"
   ]
  },
  {
   "cell_type": "markdown",
   "id": "9e88e033",
   "metadata": {},
   "source": [
    "import itertools\n",
    "import numpy as np\n",
    "import pandas as pd\n",
    "\n",
    "param_grid = {  \n",
    "    'changepoint_prior_scale': [0.001, 0.01, 0.1, 0.5],\n",
    "    'seasonality_prior_scale': [0.01, 0.1, 1.0, 10.0],\n",
    "}\n",
    "\n",
    "### Generate all combinations of parameters\n",
    "all_params = [dict(zip(param_grid.keys(), v)) for v in itertools.product(*param_grid.values())]\n",
    "rmses = []  # Store the RMSEs for each params here\n",
    "\n",
    "### Use cross validation to evaluate all parameters\n",
    "for params in all_params:\n",
    "    m = Prophet(**params).fit(df)  # Fit model with given params\n",
    "    df_cv = cross_validation(m, cutoffs=cutoffs, horizon='30 days', parallel=\"processes\")\n",
    "    df_p = performance_metrics(df_cv, rolling_window=1)\n",
    "    rmses.append(df_p['rmse'].values[0])\n",
    "\n",
    "### Find the best parameters\n",
    "tuning_results = pd.DataFrame(all_params)\n",
    "tuning_results['rmse'] = rmses\n",
    "print(tuning_results)"
   ]
  },
  {
   "cell_type": "markdown",
   "id": "1ab106ac",
   "metadata": {},
   "source": [
    "# Generate future dates"
   ]
  },
  {
   "cell_type": "markdown",
   "id": "ec304cc6",
   "metadata": {
    "scrolled": true
   },
   "source": [
    "### Generate future dates\n",
    "future_dates = model.make_future_dataframe(periods=30)\n",
    "\n",
    "### Generate predictions\n",
    "forecast = model.predict(future_dates)\n",
    "\n",
    "### Analyze and visualize results\n",
    "print(forecast[['ds', 'yhat']].tail(30))  # View predicted values for the next 30 days\n",
    "model.plot(forecast)\n",
    "\n",
    "### Calculate MAE (optional)\n",
    "mae = np.mean(np.abs(forecast['yhat'] - forecast['y']))\n",
    "print(f\"Mean Absolute Error: {mae:.2f}\")"
   ]
  },
  {
   "cell_type": "code",
   "execution_count": null,
   "id": "b98cbad2",
   "metadata": {},
   "outputs": [],
   "source": []
  },
  {
   "cell_type": "code",
   "execution_count": null,
   "id": "b8e34c9d",
   "metadata": {},
   "outputs": [],
   "source": [
    " "
   ]
  },
  {
   "cell_type": "markdown",
   "id": "8ddaebea",
   "metadata": {},
   "source": [
    "## Checking the Range as well"
   ]
  },
  {
   "cell_type": "markdown",
   "id": "8ae864d2",
   "metadata": {},
   "source": [
    "forecast_prophet[['ds', 'yhat', 'yhat_lower', 'yhat_upper']].tail()\n",
    "#### Extract predicted values for the next 30 days\n",
    "predicted_values_prophet = forecast_prophet[['ds', 'yhat']].tail(30)\n",
    "\n",
    "#### Export the predicted values to a CSV file\n",
    "predicted_values_prophet.to_csv('/home/ajaz/DemandForecasting/Data/Output/output_prophet.csv', index=False)"
   ]
  },
  {
   "cell_type": "markdown",
   "id": "92a2a27c",
   "metadata": {},
   "source": [
    "fig1 = m.plot(forecast_prophet)"
   ]
  },
  {
   "cell_type": "markdown",
   "id": "33e721a0",
   "metadata": {},
   "source": [
    "fig2 = m.plot_components(forecast_prophet)"
   ]
  },
  {
   "cell_type": "markdown",
   "id": "59090d3d",
   "metadata": {},
   "source": [
    "from prophet.plot import plot_plotly, plot_components_plotly\n",
    "\n",
    "plot_plotly(m, forecast_prophet)"
   ]
  },
  {
   "cell_type": "markdown",
   "id": "3fc6be6d",
   "metadata": {},
   "source": [
    "plot_components_plotly(m, forecast_prophet)"
   ]
  },
  {
   "cell_type": "markdown",
   "id": "3f8fc25f",
   "metadata": {},
   "source": [
    "# Checking the Fitting Vs Actual Data"
   ]
  },
  {
   "cell_type": "markdown",
   "id": "16490874",
   "metadata": {
    "scrolled": false
   },
   "source": [
    "from prophet import Prophet\n",
    "import pandas as pd\n",
    "import matplotlib.pyplot as plt\n",
    "\n",
    "# Load your dataset\n",
    "data = pd.read_csv('/home/ajaz/DemandForecasting/Data/data.csv')\n",
    "\n",
    "# Prepare the data for Prophet\n",
    "prophet_data = data.rename(columns={'TransactionDate': 'ds', 'GroupQuantity': 'y'})\n",
    "\n",
    "# Initialize Prophet\n",
    "m = Prophet()\n",
    "\n",
    "# Fit the model\n",
    "m.fit(prophet_data)\n",
    "\n",
    "# Make predictions on the training data\n",
    "forecast = m.predict(prophet_data)\n",
    "\n",
    "# Convert 'ds' column to proper datetime format\n",
    "forecast['ds'] = pd.to_datetime(forecast['ds'])\n",
    "\n",
    "# Visualize training data vs. predictions\n",
    "plt.figure(figsize=(10, 6))\n",
    "plt.plot(prophet_data['ds'], prophet_data['y'], label='Actual')\n",
    "plt.plot(forecast['ds'], forecast['yhat'], label='Predicted', linestyle='--')\n",
    "plt.legend()\n",
    "plt.xlabel('Date')\n",
    "plt.ylabel('Value')\n",
    "plt.title('Training Data vs. Predictions')\n",
    "plt.show()\n"
   ]
  },
  {
   "cell_type": "markdown",
   "id": "bf976cf0",
   "metadata": {
    "scrolled": true
   },
   "source": [
    "from prophet import Prophet\n",
    "import pandas as pd\n",
    "\n",
    "# Load your dataset\n",
    "data = pd.read_csv('/home/ajaz/DemandForecasting/Data/data.csv')\n",
    "\n",
    "# Prepare the data for Prophet\n",
    "prophet_data = data.rename(columns={'TransactionDate': 'ds', 'GroupQuantity': 'y'})\n",
    "prophet_data['ds'] = pd.to_datetime(prophet_data['ds'])  # Convert 'ds' to datetime\n",
    "\n",
    "# Initialize Prophet\n",
    "m = Prophet()\n",
    "\n",
    "# Fit the model\n",
    "m.fit(prophet_data)\n",
    "\n",
    "# Make predictions on the training data (fitted values)\n",
    "forecast = m.predict(prophet_data)\n",
    "\n",
    "# Extract actual values and fitted values\n",
    "actual_values = prophet_data[['ds', 'y']]\n",
    "fitted_values = forecast[['ds', 'yhat']]\n",
    "\n",
    "# Merge actual and fitted values into a single DataFrame\n",
    "result = pd.concat([actual_values.set_index('ds'), fitted_values.set_index('ds')], axis=1)\n",
    "result.columns = ['y_actual', 'yhat_fitted']\n",
    "\n",
    "# Reset index to have 'ds' as a column\n",
    "result.reset_index(inplace=True)\n",
    "\n",
    "# Export the values to a CSV file\n",
    "result.to_csv('/home/ajaz/DemandForecasting/Data/Output/actual_vs_fitted_values.csv', index=False)\n"
   ]
  },
  {
   "cell_type": "markdown",
   "id": "a82bd9c9",
   "metadata": {},
   "source": [
    "result"
   ]
  }
 ],
 "metadata": {
  "kernelspec": {
   "display_name": "Python 3 (ipykernel)",
   "language": "python",
   "name": "python3"
  },
  "language_info": {
   "codemirror_mode": {
    "name": "ipython",
    "version": 3
   },
   "file_extension": ".py",
   "mimetype": "text/x-python",
   "name": "python",
   "nbconvert_exporter": "python",
   "pygments_lexer": "ipython3",
   "version": "3.11.5"
  }
 },
 "nbformat": 4,
 "nbformat_minor": 5
}
