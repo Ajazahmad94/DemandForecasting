{
 "cells": [
  {
   "cell_type": "markdown",
   "id": "64184aa3",
   "metadata": {},
   "source": [
    "# Introduction  `fb-Prophet`\n",
    "\n",
    "**`fbprophet`** in this notebook we are testing the parameters that are used in fb prophet\n",
    "\n",
    "## Key Features\n",
    "        \n",
    "- **Growth Detection:** Detecting growth using custom method Ex: linear or Logistic  \n",
    "\n",
    "- **Automatic Changepoint Detection:** Using Pelt algo to detect changepoints.\n",
    "\n",
    "- **Generating Ramadan Days:** Using a Hijri Converter fn to generate Ramadan Days between two years\n",
    "\n",
    "- **Seasonality Modeling:** Experimenting various types of seasonality, such as yearly, weekly, and daily patterns and Ramadan.\n",
    "\n",
    "- **Holidays and Special Events:** Adding Ramadan as a special Holiday to include the Ramadan effect.\n",
    "\n",
    "- **Additional Regressors:** \n",
    "- **Multiplicative Seasonality:** specify custom trend components\n",
    "- **Outliers:** Using traditional stat method \n",
    "- **Cross Validation:** \n",
    "- **Hyperparameter tuning:** \n",
    "- **Generate future dates:** \n",
    "\n",
    "\n",
    "### Installation\n",
    "To use `fbprophet`, you need to install it first. You can install it using the following command:\n",
    "\n",
    "- pip install Prophet\n",
    "- pip install pelt\n",
    "- pip install ruptures\n",
    "- pip install math\n",
    "- pip install holidays\n",
    "- pip install hijri_converter"
   ]
  },
  {
   "cell_type": "markdown",
   "id": "56b710cc",
   "metadata": {},
   "source": [
    "### Importing Libraries"
   ]
  },
  {
   "cell_type": "code",
   "execution_count": 20,
   "id": "306a7baa",
   "metadata": {
    "scrolled": true
   },
   "outputs": [],
   "source": [
    "import pandas as pd\n",
    "import numpy as np\n",
    "from prophet import Prophet\n",
    "from scipy.signal import find_peaks\n",
    "import math\n",
    "import ruptures as rpt\n",
    "import warnings\n",
    "warnings.filterwarnings(\"ignore\")"
   ]
  },
  {
   "cell_type": "markdown",
   "id": "f0e826de",
   "metadata": {},
   "source": [
    "### Importing Data"
   ]
  },
  {
   "cell_type": "code",
   "execution_count": null,
   "id": "ca949e42",
   "metadata": {},
   "outputs": [],
   "source": [
    "# Load and prepare the data for Prophet\n",
    "df = pd.read_csv('/home/ajaz/DemandForecasting/Data/data.csv')\n",
    "data = df.rename(columns={'TransactionDate': 'ds', 'GroupCostPrice': 'y'})\n",
    "data = data[['ds', 'y']]"
   ]
  },
  {
   "cell_type": "markdown",
   "id": "e211b821",
   "metadata": {},
   "source": [
    "### Parameter 1: Growth"
   ]
  },
  {
   "cell_type": "code",
   "execution_count": 21,
   "id": "4646b2f1",
   "metadata": {},
   "outputs": [],
   "source": [
    "# Function to decide whether data['y'] is logistic or linear\n",
    "\n",
    "def detect_growth_pattern(data, curvature_threshold=0.1):\n",
    "    # Calculate second derivative (curvature)\n",
    "    curvature = np.gradient(np.gradient(data))\n",
    "    # Check if the curvature is close to zero\n",
    "    if np.abs(np.mean(curvature)) <= curvature_threshold:\n",
    "        return 'linear'\n",
    "    else:\n",
    "        return 'logistic'"
   ]
  },
  {
   "cell_type": "markdown",
   "id": "71839e03",
   "metadata": {},
   "source": [
    "### Parameter 1.1: Growth (Carrying Capacity and Floor)"
   ]
  },
  {
   "cell_type": "code",
   "execution_count": 22,
   "id": "acb37e87",
   "metadata": {},
   "outputs": [],
   "source": [
    "# Detect growth pattern\n",
    "growth = detect_growth_pattern(data['y'])\n",
    "\n",
    "# Define a percentile value (e.g., 99th percentile)\n",
    "percentile_value = 99\n",
    "\n",
    "# Calculate the specified percentile for the cap\n",
    "cap = (np.percentile(data['y'], percentile_value)) * 1.5\n",
    "\n",
    "# Define a lower percentile value (e.g., 5th percentile) for the floor\n",
    "percentile_floor = 5\n",
    "\n",
    "# Calculate the specified percentile for the floor\n",
    "floor = np.percentile(data['y'], percentile_floor)\n",
    "#floor and cap can be used while predicting we need to add them in future_dataframe'"
   ]
  },
  {
   "cell_type": "markdown",
   "id": "d508bd75",
   "metadata": {},
   "source": [
    "### Parameter 2: Change points PELT Algo"
   ]
  },
  {
   "cell_type": "code",
   "execution_count": 23,
   "id": "cebfafc3",
   "metadata": {},
   "outputs": [],
   "source": [
    "def calculate_penalty(data, sensitivity, cal=[6, 3, 1.5]):\n",
    "    if sensitivity == \"Low\":\n",
    "        return cal[0] * math.log(len(data))\n",
    "    elif sensitivity == \"Medium\":\n",
    "        return cal[1] * math.log(len(data))\n",
    "    elif sensitivity == \"High\":\n",
    "        return cal[2] * math.log(len(data))"
   ]
  },
  {
   "cell_type": "code",
   "execution_count": 32,
   "id": "dbd3d235",
   "metadata": {},
   "outputs": [],
   "source": [
    "peltdata = data['y'].values\n",
    "# You can choose between \"l1\" and \"l2\" cost functions\n",
    "model = \"l1\"  \n",
    "\n",
    "algo = rpt.Pelt(model=model, min_size=1, jump=1).fit(peltdata) \n",
    "penalty= calculate_penalty(peltdata, \"Medium\") \n",
    "result = algo.predict(pen=3) \n",
    "\n",
    "changepointDates=[]\n",
    "for index in result:\n",
    "    a=data.iloc[index-1]['ds']\n",
    "    changepointDates.append(a)\n",
    "\n",
    "changepointDates=pd.DataFrame(changepointDates, columns=['ds'])\n",
    "changepointDates['ds'] = pd.to_datetime(changepointDates['ds'])"
   ]
  },
  {
   "cell_type": "code",
   "execution_count": 36,
   "id": "c9f2bdac",
   "metadata": {
    "scrolled": false
   },
   "outputs": [
    {
     "name": "stderr",
     "output_type": "stream",
     "text": [
      "09:34:53 - cmdstanpy - INFO - Chain [1] start processing\n",
      "09:34:55 - cmdstanpy - INFO - Chain [1] done processing\n"
     ]
    },
    {
     "data": {
      "text/plain": [
       "<prophet.forecaster.Prophet at 0x7fe8f35dafd0>"
      ]
     },
     "execution_count": 36,
     "metadata": {},
     "output_type": "execute_result"
    }
   ],
   "source": [
    "#Fitting Prophet Modell with changepointDates\n",
    "model = Prophet(changepoints=changepointDates['ds'])\n",
    "model.fit(data)"
   ]
  },
  {
   "cell_type": "markdown",
   "id": "c7932d27",
   "metadata": {},
   "source": [
    "## Parameter 3: Seasonality\n",
    "### Import Country Inbuilt holidays"
   ]
  },
  {
   "cell_type": "code",
   "execution_count": null,
   "id": "644d1378",
   "metadata": {},
   "outputs": [],
   "source": [
    "#country_code = 'SA'  \n",
    "model = Prophet(growth=growth)\n",
    "model.add_country_holidays(country_name='SA')\n",
    "model.fit(data)"
   ]
  },
  {
   "cell_type": "markdown",
   "id": "b7a29786",
   "metadata": {},
   "source": [
    "### Import Custom Holidays"
   ]
  },
  {
   "cell_type": "code",
   "execution_count": 26,
   "id": "4cd2f148",
   "metadata": {
    "scrolled": true
   },
   "outputs": [
    {
     "name": "stdout",
     "output_type": "stream",
     "text": [
      "2024-02-22 Founding Day Holiday\n",
      "2024-04-10 Eid al-Fitr Holiday* (*estimated)\n",
      "2024-04-11 Eid al-Fitr Holiday* (*estimated)\n",
      "2024-04-12 Eid al-Fitr Holiday* (*estimated)\n",
      "2024-04-13 Eid al-Fitr Holiday* (*estimated)\n",
      "2024-04-14 Eid al-Fitr Holiday* (*estimated) (observed)\n",
      "2024-04-15 Eid al-Fitr Holiday* (*estimated) (observed)\n",
      "2024-06-15 Arafat Day* (*estimated)\n",
      "2024-06-16 Eid al-Adha Holiday* (*estimated)\n",
      "2024-06-17 Eid al-Adha Holiday* (*estimated)\n",
      "2024-06-18 Eid al-Adha Holiday* (*estimated)\n",
      "2024-06-19 Eid al-Adha Holiday* (*estimated) (observed)\n",
      "2024-09-23 National Day Holiday\n"
     ]
    }
   ],
   "source": [
    "from datetime import date\n",
    "import holidays\n",
    "for date, name in sorted(holidays.SA(years=2024).items()):\n",
    "    print(date, name)"
   ]
  },
  {
   "cell_type": "markdown",
   "id": "0582917b",
   "metadata": {},
   "source": [
    "### Generate the Ramdan Days"
   ]
  },
  {
   "cell_type": "code",
   "execution_count": 27,
   "id": "b516a05f",
   "metadata": {
    "scrolled": false
   },
   "outputs": [
    {
     "data": {
      "text/html": [
       "<div>\n",
       "<style scoped>\n",
       "    .dataframe tbody tr th:only-of-type {\n",
       "        vertical-align: middle;\n",
       "    }\n",
       "\n",
       "    .dataframe tbody tr th {\n",
       "        vertical-align: top;\n",
       "    }\n",
       "\n",
       "    .dataframe thead th {\n",
       "        text-align: right;\n",
       "    }\n",
       "</style>\n",
       "<table border=\"1\" class=\"dataframe\">\n",
       "  <thead>\n",
       "    <tr style=\"text-align: right;\">\n",
       "      <th></th>\n",
       "      <th>ramadan_dates</th>\n",
       "    </tr>\n",
       "  </thead>\n",
       "  <tbody>\n",
       "    <tr>\n",
       "      <th>0</th>\n",
       "      <td>2024-03-11</td>\n",
       "    </tr>\n",
       "    <tr>\n",
       "      <th>1</th>\n",
       "      <td>2024-03-12</td>\n",
       "    </tr>\n",
       "    <tr>\n",
       "      <th>2</th>\n",
       "      <td>2024-03-13</td>\n",
       "    </tr>\n",
       "    <tr>\n",
       "      <th>3</th>\n",
       "      <td>2024-03-14</td>\n",
       "    </tr>\n",
       "    <tr>\n",
       "      <th>4</th>\n",
       "      <td>2024-03-15</td>\n",
       "    </tr>\n",
       "    <tr>\n",
       "      <th>...</th>\n",
       "      <td>...</td>\n",
       "    </tr>\n",
       "    <tr>\n",
       "      <th>198</th>\n",
       "      <td>2030-01-29</td>\n",
       "    </tr>\n",
       "    <tr>\n",
       "      <th>199</th>\n",
       "      <td>2030-01-30</td>\n",
       "    </tr>\n",
       "    <tr>\n",
       "      <th>200</th>\n",
       "      <td>2030-01-31</td>\n",
       "    </tr>\n",
       "    <tr>\n",
       "      <th>201</th>\n",
       "      <td>2030-02-01</td>\n",
       "    </tr>\n",
       "    <tr>\n",
       "      <th>202</th>\n",
       "      <td>2030-02-02</td>\n",
       "    </tr>\n",
       "  </tbody>\n",
       "</table>\n",
       "<p>203 rows × 1 columns</p>\n",
       "</div>"
      ],
      "text/plain": [
       "    ramadan_dates\n",
       "0      2024-03-11\n",
       "1      2024-03-12\n",
       "2      2024-03-13\n",
       "3      2024-03-14\n",
       "4      2024-03-15\n",
       "..            ...\n",
       "198    2030-01-29\n",
       "199    2030-01-30\n",
       "200    2030-01-31\n",
       "201    2030-02-01\n",
       "202    2030-02-02\n",
       "\n",
       "[203 rows x 1 columns]"
      ]
     },
     "execution_count": 27,
     "metadata": {},
     "output_type": "execute_result"
    }
   ],
   "source": [
    "import pandas as pd\n",
    "from hijri_converter import convert\n",
    "\n",
    "def generate_ramadan_dates_df(start_year, end_year):\n",
    "    ramadan_dates = []\n",
    "\n",
    "    for year in range(start_year, end_year + 1):\n",
    "        # The Umm al-Qura calendar uses Hijri dates for Islamic months\n",
    "        hijri_year_start = convert.Gregorian(year, 1, 1).to_hijri()\n",
    "        hijri_year_end = convert.Gregorian(year, 12, 30).to_hijri()\n",
    "\n",
    "        for day in range(1, 30):  # Assuming Ramadan lasts for 29 or 30 days\n",
    "            # Find the date of Ramadan in the Hijri calendar\n",
    "            ramadan_date = convert.Hijri(hijri_year_start.year, 9, day).to_gregorian()\n",
    "\n",
    "            # Append the date to the list\n",
    "            ramadan_dates.append(ramadan_date)\n",
    "\n",
    "    # Create a DataFrame with a column named 'ramadan_dates'\n",
    "    df = pd.DataFrame({'ramadan_dates': ramadan_dates})\n",
    "\n",
    "    return df\n",
    "\n",
    "# Example usage:\n",
    "start_year = 2024\n",
    "end_year = 2030\n",
    "ramadan_dates_df = generate_ramadan_dates_df(start_year, end_year)\n",
    "ramadan_dates_df"
   ]
  },
  {
   "cell_type": "markdown",
   "id": "b48b6cf0",
   "metadata": {},
   "source": [
    "## Parameter 3.1: Seasonality with fourier Order"
   ]
  },
  {
   "cell_type": "code",
   "execution_count": null,
   "id": "569c0c0c",
   "metadata": {},
   "outputs": [],
   "source": [
    "from prophet.plot import plot_yearly\n",
    "m = Prophet(yearly_seasonality=6).fit(data)\n",
    "a = plot_yearly(m)"
   ]
  },
  {
   "cell_type": "code",
   "execution_count": null,
   "id": "07875c59",
   "metadata": {},
   "outputs": [],
   "source": [
    "from prophet.plot import plot_yearly\n",
    "m = Prophet(yearly_seasonality=20).fit(data)\n",
    "a = plot_yearly(m)"
   ]
  },
  {
   "cell_type": "code",
   "execution_count": null,
   "id": "44247380",
   "metadata": {},
   "outputs": [],
   "source": [
    "from prophet.plot import plot_yearly\n",
    "m = Prophet(yearly_seasonality=100).fit(data)\n",
    "a = plot_yearly(m)"
   ]
  },
  {
   "cell_type": "markdown",
   "id": "299d5934",
   "metadata": {},
   "source": [
    "## Add Custom Sesonality"
   ]
  },
  {
   "cell_type": "markdown",
   "id": "600fda38",
   "metadata": {},
   "source": [
    "- Default: Yearly and Weekly Prophet will fit, min two cycles (2 years, 2months) needed. <br>\n",
    "- if daily data with time--> Fit Sub Daily Time Series <br>\n",
    "- If you need Monthly, Quarterly, Hourly-->    add_seasonality \n",
    "- Fourier Order, default: Weekly:3, Yearly =10"
   ]
  },
  {
   "cell_type": "code",
   "execution_count": null,
   "id": "e578cca2",
   "metadata": {},
   "outputs": [],
   "source": [
    "m = Prophet(weekly_seasonality=False)\n",
    "m.add_seasonality(name='monthly', period=30.5, fourier_order=5)\n",
    "#forecast = m.fit(data).predict(future)\n",
    "m"
   ]
  },
  {
   "cell_type": "code",
   "execution_count": null,
   "id": "54aa504c",
   "metadata": {},
   "outputs": [],
   "source": [
    "#if holidday param is overfiiting, to reduce the effect make  holidays_prior_scale=0.05 as low to reduce its effect.\n",
    "m = Prophet(holidays=holidays, holidays_prior_scale=0.05).fit(df)"
   ]
  },
  {
   "cell_type": "code",
   "execution_count": null,
   "id": "7ea7c9b5",
   "metadata": {},
   "outputs": [],
   "source": [
    "#adding custom Seasonality\n",
    "m = Prophet()\n",
    "m.add_seasonality(name='weekly', period=7, fourier_order=3, prior_scale=0.1)"
   ]
  },
  {
   "cell_type": "markdown",
   "id": "276caa0c",
   "metadata": {},
   "source": [
    " "
   ]
  },
  {
   "cell_type": "code",
   "execution_count": null,
   "id": "d7e45db5",
   "metadata": {
    "scrolled": true
   },
   "outputs": [],
   "source": [
    "m = Prophet(mcmc_samples=300, holidays=holidays_df, holidays_prior_scale=0.25, changepoint_prior_scale=0.01, seasonality_mode='multiplicative', \\\n",
    "            yearly_seasonality=10, \\\n",
    "            weekly_seasonality=True, \\\n",
    "            daily_seasonality=False)"
   ]
  },
  {
   "cell_type": "markdown",
   "id": "720d29d4",
   "metadata": {},
   "source": [
    "## Seasonalities that depend on other factors\n",
    "Seasonality may depend on other factors, such as a weekly seasonal pattern that is different during the summer than it is during the rest of the year, or a daily seasonal pattern that is different on weekends vs. on weekdays"
   ]
  },
  {
   "cell_type": "markdown",
   "id": "d1e03a8f",
   "metadata": {},
   "source": [
    "## Ramadan Seasonality"
   ]
  },
  {
   "cell_type": "markdown",
   "id": "c705d524",
   "metadata": {},
   "source": [
    "#### Adding Ramadan Season in the Training and Future Predictions as well\n",
    "\n",
    "- Create a Custom Monthly Season\n",
    "- Monthly season with ramdan\n",
    "- Monthly season without Ramadan"
   ]
  },
  {
   "cell_type": "code",
   "execution_count": null,
   "id": "f3780013",
   "metadata": {},
   "outputs": [],
   "source": [
    "m = Prophet(weekly_seasonality=False)\n",
    "#Need to figure out to declare Ramadan as a monthly season\n",
    "#Need to figure to decalre Months as a Monthly seasons\n",
    "\n",
    "m.add_seasonality(name='Monthly_NonRamadan_season', period=30.5, fourier_order=3, condition_name='No_Ramadan')\n",
    "m.add_seasonality(name='Monthly_Ramadan_season', period=30.5, fourier_order=3, condition_name='Ramadan_season')\n",
    "\n",
    "\n",
    "#For Predictions we must consider to generate the dates even in future dataframe mentioning Ramadan and Non Ramadan\n",
    "\n",
    "future['on_season'] = future['ds'].apply(is_nfl_season)\n",
    "future['off_season'] = ~future['ds'].apply(is_nfl_season)\n",
    "forecast = m.fit(df).predict(future)\n",
    "fig = m.plot_components(forecast)"
   ]
  },
  {
   "cell_type": "markdown",
   "id": "a8d2bf3b",
   "metadata": {},
   "source": [
    "### Dampen the effect of Ramadan or any seasonality\n",
    "- If Seasonality is overfitting, We can fix it using\n",
    "- holidays_prior_scale=0.05 \n",
    "- default holidays_prior_scale 10, reducing it will reduce holiday effect\n",
    "- m = Prophet(holidays=holidays, holidays_prior_scale=0.05).fit(df)\n",
    "- Param\n",
    "- Seasonality_prior_scale , holidays_prior_scale, prior_scale"
   ]
  },
  {
   "cell_type": "code",
   "execution_count": null,
   "id": "4b76e4bc",
   "metadata": {},
   "outputs": [],
   "source": [
    "m = Prophet()\n",
    "m.add_seasonality(name='weekly', period=7, fourier_order=3, prior_scale=0.1)\n",
    "#For Individual Holidays it can be set"
   ]
  },
  {
   "cell_type": "markdown",
   "id": "5287e440",
   "metadata": {},
   "source": [
    "### Additional Regressors\n",
    "- Regressor value will need to be present in both the fitting and prediction dataframes\n",
    "- Extra-regressors to the model using the add_regressor method\n",
    "- The seasonality grows with the trend. \n",
    "- This is multiplicative seasonality.Time series has a clear yearly cycle but its growing"
   ]
  },
  {
   "cell_type": "code",
   "execution_count": null,
   "id": "64f830d0",
   "metadata": {},
   "outputs": [],
   "source": [
    "m = Prophet()\n",
    "m.add_regressor('nfl_sunday')\n",
    "m.fit(df)\n",
    "\n",
    "future['nfl_sunday'] = future['ds'].apply(nfl_sunday)\n",
    "forecast = m.predict(future)"
   ]
  },
  {
   "cell_type": "markdown",
   "id": "72b2883c",
   "metadata": {},
   "source": [
    "### Multiplicative Seasonality"
   ]
  },
  {
   "cell_type": "code",
   "execution_count": null,
   "id": "b5ae5fae",
   "metadata": {},
   "outputs": [],
   "source": [
    "m = Prophet(seasonality_mode='multiplicative')\n",
    "m.add_seasonality('quarterly', period=91.25, fourier_order=8, mode='additive')\n",
    "m.add_regressor('regressor', mode='additive')"
   ]
  },
  {
   "cell_type": "code",
   "execution_count": null,
   "id": "0540ab04",
   "metadata": {},
   "outputs": [],
   "source": [
    "import pandas as pd\n",
    "import numpy as np\n",
    "import warnings\n",
    "warnings.filterwarnings(\"ignore\")\n",
    "from prophet import Prophet\n",
    "from scipy.signal import find_peaks\n",
    "\n",
    "# Load and prepare the data for Prophet\n",
    "df = pd.read_csv('/home/ajaz/DemandForecasting/Data/data.csv')\n",
    "data = df.rename(columns={'TransactionDate': 'ds', 'GroupQuantity': 'y'})\n",
    "data = data[['ds', 'y']]"
   ]
  },
  {
   "cell_type": "markdown",
   "id": "e2702986",
   "metadata": {},
   "source": [
    "## Outliers"
   ]
  },
  {
   "cell_type": "code",
   "execution_count": null,
   "id": "6ef68f46",
   "metadata": {},
   "outputs": [],
   "source": [
    "# Assuming you have calculated Q1, Q3, IQR, lower_bound, and upper_bound\n",
    "# as per the previous snippet\n",
    "Q1 = data['y'].quantile(0.25)\n",
    "Q3 = data['y'].quantile(0.75)\n",
    "IQR = Q3 - Q1\n",
    "\n",
    "lower_bound = Q1 - 1.5 * IQR\n",
    "upper_bound = Q3 + 1.5 * IQR\n",
    "\n",
    "soutliers = data[((data['y'] < lower_bound) | (data['y'] > upper_bound))]\n",
    "\n",
    "# Identifying outliers\n",
    "outliers = data[((data['y'] < lower_bound) | (data['y'] > upper_bound))]\n",
    "\n",
    "# Replace outlier values with the mean\n",
    "data.loc[outliers.index, 'y'] = data['y'].mean()\n",
    "\n",
    "# Optional: Print the updated DataFrame\n",
    "print(data)\n"
   ]
  },
  {
   "cell_type": "markdown",
   "id": "33ba85af",
   "metadata": {},
   "source": [
    "## Cross Validation"
   ]
  },
  {
   "cell_type": "code",
   "execution_count": null,
   "id": "3177074f",
   "metadata": {},
   "outputs": [],
   "source": [
    "from prophet.diagnostics import cross_validation\n",
    "df_cv = cross_validation(m, initial='730 days', period='180 days', horizon = '365 days')"
   ]
  },
  {
   "cell_type": "code",
   "execution_count": null,
   "id": "fedc85e5",
   "metadata": {},
   "outputs": [],
   "source": [
    "cutoffs = pd.to_datetime(['2013-02-15', '2013-08-15', '2014-02-15'])\n",
    "df_cv2 = cross_validation(m, cutoffs=cutoffs, horizon='365 days')"
   ]
  },
  {
   "cell_type": "code",
   "execution_count": null,
   "id": "35c463ed",
   "metadata": {},
   "outputs": [],
   "source": [
    "from prophet.diagnostics import performance_metrics\n",
    "df_p = performance_metrics(df_cv)\n",
    "df_p.head()"
   ]
  },
  {
   "cell_type": "code",
   "execution_count": null,
   "id": "629a7b15",
   "metadata": {},
   "outputs": [],
   "source": [
    "from prophet.plot import plot_cross_validation_metric\n",
    "fig = plot_cross_validation_metric(df_cv, metric='mape')"
   ]
  },
  {
   "cell_type": "markdown",
   "id": "8a3e7066",
   "metadata": {},
   "source": [
    "## Hyperparameter tuning"
   ]
  },
  {
   "cell_type": "markdown",
   "id": "8c6e605a",
   "metadata": {},
   "source": [
    "import itertools\n",
    "import numpy as np\n",
    "import pandas as pd\n",
    "\n",
    "param_grid = {  \n",
    "    'changepoint_prior_scale': [0.001, 0.01, 0.1, 0.5],\n",
    "    'seasonality_prior_scale': [0.01, 0.1, 1.0, 10.0],\n",
    "}\n",
    "\n",
    "### Generate all combinations of parameters\n",
    "all_params = [dict(zip(param_grid.keys(), v)) for v in itertools.product(*param_grid.values())]\n",
    "rmses = []  # Store the RMSEs for each params here\n",
    "\n",
    "### Use cross validation to evaluate all parameters\n",
    "for params in all_params:\n",
    "    m = Prophet(**params).fit(df)  # Fit model with given params\n",
    "    df_cv = cross_validation(m, cutoffs=cutoffs, horizon='30 days', parallel=\"processes\")\n",
    "    df_p = performance_metrics(df_cv, rolling_window=1)\n",
    "    rmses.append(df_p['rmse'].values[0])\n",
    "\n",
    "### Find the best parameters\n",
    "tuning_results = pd.DataFrame(all_params)\n",
    "tuning_results['rmse'] = rmses\n",
    "print(tuning_results)"
   ]
  },
  {
   "cell_type": "markdown",
   "id": "1ab106ac",
   "metadata": {},
   "source": [
    "# Generate future dates"
   ]
  },
  {
   "cell_type": "markdown",
   "id": "b4fa782b",
   "metadata": {
    "scrolled": true
   },
   "source": [
    "### Generate future dates\n",
    "future_dates = model.make_future_dataframe(periods=30)\n",
    "\n",
    "### Generate predictions\n",
    "forecast = model.predict(future_dates)\n",
    "\n",
    "### Analyze and visualize results\n",
    "print(forecast[['ds', 'yhat']].tail(30))  # View predicted values for the next 30 days\n",
    "model.plot(forecast)\n",
    "\n",
    "### Calculate MAE (optional)\n",
    "mae = np.mean(np.abs(forecast['yhat'] - forecast['y']))\n",
    "print(f\"Mean Absolute Error: {mae:.2f}\")"
   ]
  },
  {
   "cell_type": "code",
   "execution_count": null,
   "id": "b98cbad2",
   "metadata": {},
   "outputs": [],
   "source": []
  },
  {
   "cell_type": "code",
   "execution_count": null,
   "id": "b8e34c9d",
   "metadata": {},
   "outputs": [],
   "source": [
    " "
   ]
  },
  {
   "cell_type": "markdown",
   "id": "8ddaebea",
   "metadata": {},
   "source": [
    "## Checking the Range as well"
   ]
  },
  {
   "cell_type": "markdown",
   "id": "bda71246",
   "metadata": {},
   "source": [
    "forecast_prophet[['ds', 'yhat', 'yhat_lower', 'yhat_upper']].tail()\n",
    "#### Extract predicted values for the next 30 days\n",
    "predicted_values_prophet = forecast_prophet[['ds', 'yhat']].tail(30)\n",
    "\n",
    "#### Export the predicted values to a CSV file\n",
    "predicted_values_prophet.to_csv('/home/ajaz/DemandForecasting/Data/Output/output_prophet.csv', index=False)"
   ]
  },
  {
   "cell_type": "markdown",
   "id": "3ba0e726",
   "metadata": {},
   "source": [
    "fig1 = m.plot(forecast_prophet)"
   ]
  },
  {
   "cell_type": "markdown",
   "id": "830d00c5",
   "metadata": {},
   "source": [
    "fig2 = m.plot_components(forecast_prophet)"
   ]
  },
  {
   "cell_type": "markdown",
   "id": "e54bb9da",
   "metadata": {},
   "source": [
    "from prophet.plot import plot_plotly, plot_components_plotly\n",
    "\n",
    "plot_plotly(m, forecast_prophet)"
   ]
  },
  {
   "cell_type": "markdown",
   "id": "cd71b3cb",
   "metadata": {},
   "source": [
    "plot_components_plotly(m, forecast_prophet)"
   ]
  },
  {
   "cell_type": "markdown",
   "id": "3f8fc25f",
   "metadata": {},
   "source": [
    "# Checking the Fitting Vs Actual Data"
   ]
  },
  {
   "cell_type": "markdown",
   "id": "a1dea72f",
   "metadata": {
    "scrolled": false
   },
   "source": [
    "from prophet import Prophet\n",
    "import pandas as pd\n",
    "import matplotlib.pyplot as plt\n",
    "\n",
    "# Load your dataset\n",
    "data = pd.read_csv('/home/ajaz/DemandForecasting/Data/data.csv')\n",
    "\n",
    "# Prepare the data for Prophet\n",
    "prophet_data = data.rename(columns={'TransactionDate': 'ds', 'GroupQuantity': 'y'})\n",
    "\n",
    "# Initialize Prophet\n",
    "m = Prophet()\n",
    "\n",
    "# Fit the model\n",
    "m.fit(prophet_data)\n",
    "\n",
    "# Make predictions on the training data\n",
    "forecast = m.predict(prophet_data)\n",
    "\n",
    "# Convert 'ds' column to proper datetime format\n",
    "forecast['ds'] = pd.to_datetime(forecast['ds'])\n",
    "\n",
    "# Visualize training data vs. predictions\n",
    "plt.figure(figsize=(10, 6))\n",
    "plt.plot(prophet_data['ds'], prophet_data['y'], label='Actual')\n",
    "plt.plot(forecast['ds'], forecast['yhat'], label='Predicted', linestyle='--')\n",
    "plt.legend()\n",
    "plt.xlabel('Date')\n",
    "plt.ylabel('Value')\n",
    "plt.title('Training Data vs. Predictions')\n",
    "plt.show()\n"
   ]
  },
  {
   "cell_type": "markdown",
   "id": "b19b6420",
   "metadata": {
    "scrolled": true
   },
   "source": [
    "from prophet import Prophet\n",
    "import pandas as pd\n",
    "\n",
    "# Load your dataset\n",
    "data = pd.read_csv('/home/ajaz/DemandForecasting/Data/data.csv')\n",
    "\n",
    "# Prepare the data for Prophet\n",
    "prophet_data = data.rename(columns={'TransactionDate': 'ds', 'GroupQuantity': 'y'})\n",
    "prophet_data['ds'] = pd.to_datetime(prophet_data['ds'])  # Convert 'ds' to datetime\n",
    "\n",
    "# Initialize Prophet\n",
    "m = Prophet()\n",
    "\n",
    "# Fit the model\n",
    "m.fit(prophet_data)\n",
    "\n",
    "# Make predictions on the training data (fitted values)\n",
    "forecast = m.predict(prophet_data)\n",
    "\n",
    "# Extract actual values and fitted values\n",
    "actual_values = prophet_data[['ds', 'y']]\n",
    "fitted_values = forecast[['ds', 'yhat']]\n",
    "\n",
    "# Merge actual and fitted values into a single DataFrame\n",
    "result = pd.concat([actual_values.set_index('ds'), fitted_values.set_index('ds')], axis=1)\n",
    "result.columns = ['y_actual', 'yhat_fitted']\n",
    "\n",
    "# Reset index to have 'ds' as a column\n",
    "result.reset_index(inplace=True)\n",
    "\n",
    "# Export the values to a CSV file\n",
    "result.to_csv('/home/ajaz/DemandForecasting/Data/Output/actual_vs_fitted_values.csv', index=False)\n"
   ]
  },
  {
   "cell_type": "markdown",
   "id": "c2ae24f9",
   "metadata": {},
   "source": [
    "result"
   ]
  }
 ],
 "metadata": {
  "kernelspec": {
   "display_name": "Python 3 (ipykernel)",
   "language": "python",
   "name": "python3"
  },
  "language_info": {
   "codemirror_mode": {
    "name": "ipython",
    "version": 3
   },
   "file_extension": ".py",
   "mimetype": "text/x-python",
   "name": "python",
   "nbconvert_exporter": "python",
   "pygments_lexer": "ipython3",
   "version": "3.11.5"
  }
 },
 "nbformat": 4,
 "nbformat_minor": 5
}
