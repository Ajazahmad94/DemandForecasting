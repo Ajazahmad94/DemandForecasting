{
 "cells": [
  {
   "cell_type": "code",
   "execution_count": 1,
   "id": "05879227",
   "metadata": {},
   "outputs": [],
   "source": [
    "#Testing\n",
    "import pandas as pd\n",
    "import numpy as np\n",
    "from prophet import Prophet\n",
    "import matplotlib.pyplot as plt\n",
    "from scipy.signal import find_peaks\n",
    "import math\n",
    "import ruptures as rpt\n",
    "import warnings\n",
    "import holidays\n",
    "from hijri_converter import convert\n",
    "from datetime import date,datetime, timedelta\n",
    "from prophet.diagnostics import performance_metrics, cross_validation\n",
    "\n",
    "\n",
    "warnings.filterwarnings(\"ignore\")"
   ]
  },
  {
   "cell_type": "markdown",
   "id": "3edfa77f",
   "metadata": {},
   "source": [
    "## Parameters"
   ]
  },
  {
   "cell_type": "code",
   "execution_count": 2,
   "id": "0daa6490",
   "metadata": {},
   "outputs": [],
   "source": [
    "growth='linear'\n",
    "country_name='SA'\n",
    "interval_width=0.95\n",
    "seasonality_mode='multiplicative'\n",
    "seasonality_mode=seasonality_mode\n",
    "yearly_seasonality=6\n",
    "mcmc_samples=2\n",
    "\n",
    "#holidays = 'df_weekends'\n",
    "\n",
    "changepoint_prior_scale=0.08\n",
    "\n",
    "monthly_season='monthly'\n",
    "monthly_season_period=30.5\n",
    "monthly_season_fourier_order=10\n",
    "monthly_season_mode='additive'\n",
    "\n",
    "#Weekend\n",
    "start_date ='01-01-2018'\n",
    "end_date = '01-01-2024'\n",
    "weekend_days = [4]  #4 is Friday:  0-6:Mon-Sun\n"
   ]
  },
  {
   "cell_type": "code",
   "execution_count": 3,
   "id": "6dde4b9f",
   "metadata": {},
   "outputs": [],
   "source": [
    "# Load and prepare the data for Prophet\n",
    "df = pd.read_csv('/home/ajaz/DemandForecasting/Data/data.csv')\n",
    "data = df.rename(columns={'TransactionDate': 'ds', 'GroupCostPrice': 'y'})\n",
    "data = data[['ds', 'y']]\n",
    "data['ds']=pd.to_datetime(data['ds'])\n",
    "#data.head(2)"
   ]
  },
  {
   "cell_type": "markdown",
   "id": "71839e03",
   "metadata": {},
   "source": [
    "### Parameter  Growth  "
   ]
  },
  {
   "cell_type": "code",
   "execution_count": 4,
   "id": "acb37e87",
   "metadata": {},
   "outputs": [],
   "source": [
    "# Function to decide whether data['y'] is logistic or linear\n",
    "\n",
    "def detect_growth_pattern(data, curvature_threshold=0.1):\n",
    "    # Calculate second derivative (curvature)\n",
    "    curvature = np.gradient(np.gradient(data))\n",
    "    # Check if the curvature is close to zero\n",
    "    if np.abs(np.mean(curvature)) <= curvature_threshold:\n",
    "        return 'linear'\n",
    "    else:\n",
    "        return 'logistic'\n",
    "    \n",
    "# Detect growth pattern\n",
    "growth = detect_growth_pattern(data['y'])\n",
    "\n",
    "# Define a percentile value (e.g., 99th percentile)\n",
    "percentile_value = 99\n",
    "\n",
    "# Calculate the specified percentile for the cap\n",
    "cap = (np.percentile(data['y'], percentile_value)) * 1.5\n",
    "\n",
    "# Define a lower percentile value (e.g., 5th percentile) for the floor\n",
    "percentile_floor = 5\n",
    "\n",
    "# Calculate the specified percentile for the floor\n",
    "floor = np.percentile(data['y'], percentile_floor)\n",
    "#floor and cap can be used while predicting we need to add them in future_dataframe'\n",
    "#print('Parameter : growth=' +growth)"
   ]
  },
  {
   "cell_type": "markdown",
   "id": "d508bd75",
   "metadata": {},
   "source": [
    "### Parameter 2: Change points PELT Algo"
   ]
  },
  {
   "cell_type": "code",
   "execution_count": 5,
   "id": "cebfafc3",
   "metadata": {},
   "outputs": [],
   "source": [
    "def calculate_penalty(data, sensitivity, cal=[6, 3, 1.5]):\n",
    "    if sensitivity == \"Low\":\n",
    "        return cal[0] * math.log(len(data))\n",
    "    elif sensitivity == \"Medium\":\n",
    "        return cal[1] * math.log(len(data))\n",
    "    elif sensitivity == \"High\":\n",
    "        return cal[2] * math.log(len(data))"
   ]
  },
  {
   "cell_type": "code",
   "execution_count": 6,
   "id": "dbd3d235",
   "metadata": {},
   "outputs": [],
   "source": [
    "peltdata = data['y'].values\n",
    "# You can choose between \"l1\" and \"l2\" cost functions\n",
    "model = \"l1\"  \n",
    "\n",
    "algo = rpt.Pelt(model=model, min_size=1, jump=1).fit(peltdata) \n",
    "penalty= calculate_penalty(peltdata, \"Medium\") \n",
    "result = algo.predict(pen=3) \n",
    "\n",
    "changepointDates=[]\n",
    "for index in result:\n",
    "    a=data.iloc[index-1]['ds']\n",
    "    changepointDates.append(a)\n",
    "\n",
    "changepointDates=pd.DataFrame(changepointDates, columns=['ds'])\n",
    "changepointDates['ds'] = pd.to_datetime(changepointDates['ds'])\n",
    "\n",
    "changepoints=changepointDates['ds']     \n",
    "#holidays=holidays\n",
    "#changepointDates.head(2)"
   ]
  },
  {
   "cell_type": "markdown",
   "id": "adaf5a6f",
   "metadata": {},
   "source": [
    "# Outlier"
   ]
  },
  {
   "cell_type": "code",
   "execution_count": 7,
   "id": "2c18a3ea",
   "metadata": {},
   "outputs": [],
   "source": [
    "# Assuming you have calculated Q1, Q3, IQR, lower_bound, and upper_bound\n",
    "# as per the previous snippet\n",
    "Q1 = data['y'].quantile(0.25)\n",
    "Q3 = data['y'].quantile(0.75)\n",
    "IQR = Q3 - Q1\n",
    "\n",
    "lower_bound = Q1 - 1.5 * IQR\n",
    "upper_bound = Q3 + 1.5 * IQR\n",
    "\n",
    "soutliers = data[((data['y'] < lower_bound) | (data['y'] > upper_bound))]\n",
    "\n",
    "# Identifying outliers\n",
    "outliers = data[((data['y'] < lower_bound) | (data['y'] > upper_bound))]\n",
    "\n",
    "# Replace outlier values with the mean\n",
    "data.loc[outliers.index, 'y'] = data['y'].mean()\n",
    "\n",
    "# Optional: Print the updated DataFrame\n",
    "#data.head(2)"
   ]
  },
  {
   "cell_type": "markdown",
   "id": "3ea1b7f5",
   "metadata": {},
   "source": [
    "## Ramadan Holidays"
   ]
  },
  {
   "cell_type": "code",
   "execution_count": 8,
   "id": "7f656abb",
   "metadata": {},
   "outputs": [],
   "source": [
    "def generate_ramadan_dates_df(start_year, end_year):\n",
    "    ramadan_dates = []\n",
    "\n",
    "    for year in range(start_year, end_year + 1):\n",
    "        # The Umm al-Qura calendar uses Hijri dates for Islamic months\n",
    "        hijri_year_start = convert.Gregorian(year, 1, 1).to_hijri()\n",
    "        hijri_year_end = convert.Gregorian(year, 12, 30).to_hijri()\n",
    "\n",
    "        for day in range(1, 30):  # Assuming Ramadan lasts for 29 or 30 days\n",
    "            # Find the date of Ramadan in the Hijri calendar\n",
    "            ramadan_date = convert.Hijri(hijri_year_start.year, 9, day).to_gregorian()\n",
    "\n",
    "            # Append the date to the list\n",
    "            ramadan_dates.append(ramadan_date)\n",
    "\n",
    "    # Create a DataFrame with a column named 'ramadan_dates'\n",
    "    ramadan_df = pd.DataFrame({'ds': ramadan_dates})\n",
    "    return ramadan_df"
   ]
  },
  {
   "cell_type": "code",
   "execution_count": 9,
   "id": "f21d7fae",
   "metadata": {},
   "outputs": [],
   "source": [
    "start_year = datetime.strptime(start_date, '%d-%m-%Y').year\n",
    "end_year = datetime.strptime(end_date, '%d-%m-%Y').year\n",
    "ramadan_df = generate_ramadan_dates_df(start_year, end_year)"
   ]
  },
  {
   "cell_type": "markdown",
   "id": "638d0a71",
   "metadata": {},
   "source": [
    "## Weekend"
   ]
  },
  {
   "cell_type": "code",
   "execution_count": 10,
   "id": "4c4aa5d3",
   "metadata": {},
   "outputs": [],
   "source": [
    "def generate_weekends(start_date, end_date, weekend_days):\n",
    "    start_date = datetime.strptime(start_date, '%d-%m-%Y')\n",
    "    end_date = datetime.strptime(end_date, '%d-%m-%Y')\n",
    "    \n",
    "    weekends = []\n",
    "    current_date = start_date\n",
    "\n",
    "    while current_date <= end_date:\n",
    "        # Check if the current date is a weekend\n",
    "        if current_date.weekday() in weekend_days:\n",
    "            weekends.append(current_date)\n",
    "        current_date += timedelta(days=1)\n",
    "\n",
    "    # Create a DataFrame with day names and dates\n",
    "    weekend_df = {'ds': weekends,\n",
    "                  'holiday': [day.strftime('%A') for day in weekends]}\n",
    "\n",
    "    df_weekends = pd.DataFrame(weekend_df)\n",
    "    return df_weekends"
   ]
  },
  {
   "cell_type": "code",
   "execution_count": 11,
   "id": "e0266e98",
   "metadata": {},
   "outputs": [
    {
     "data": {
      "text/html": [
       "<div>\n",
       "<style scoped>\n",
       "    .dataframe tbody tr th:only-of-type {\n",
       "        vertical-align: middle;\n",
       "    }\n",
       "\n",
       "    .dataframe tbody tr th {\n",
       "        vertical-align: top;\n",
       "    }\n",
       "\n",
       "    .dataframe thead th {\n",
       "        text-align: right;\n",
       "    }\n",
       "</style>\n",
       "<table border=\"1\" class=\"dataframe\">\n",
       "  <thead>\n",
       "    <tr style=\"text-align: right;\">\n",
       "      <th></th>\n",
       "      <th>ds</th>\n",
       "      <th>holiday</th>\n",
       "    </tr>\n",
       "  </thead>\n",
       "  <tbody>\n",
       "    <tr>\n",
       "      <th>0</th>\n",
       "      <td>2018-01-05</td>\n",
       "      <td>Friday</td>\n",
       "    </tr>\n",
       "    <tr>\n",
       "      <th>1</th>\n",
       "      <td>2018-01-12</td>\n",
       "      <td>Friday</td>\n",
       "    </tr>\n",
       "    <tr>\n",
       "      <th>2</th>\n",
       "      <td>2018-01-19</td>\n",
       "      <td>Friday</td>\n",
       "    </tr>\n",
       "    <tr>\n",
       "      <th>3</th>\n",
       "      <td>2018-01-26</td>\n",
       "      <td>Friday</td>\n",
       "    </tr>\n",
       "    <tr>\n",
       "      <th>4</th>\n",
       "      <td>2018-02-02</td>\n",
       "      <td>Friday</td>\n",
       "    </tr>\n",
       "    <tr>\n",
       "      <th>...</th>\n",
       "      <td>...</td>\n",
       "      <td>...</td>\n",
       "    </tr>\n",
       "    <tr>\n",
       "      <th>308</th>\n",
       "      <td>2023-12-01</td>\n",
       "      <td>Friday</td>\n",
       "    </tr>\n",
       "    <tr>\n",
       "      <th>309</th>\n",
       "      <td>2023-12-08</td>\n",
       "      <td>Friday</td>\n",
       "    </tr>\n",
       "    <tr>\n",
       "      <th>310</th>\n",
       "      <td>2023-12-15</td>\n",
       "      <td>Friday</td>\n",
       "    </tr>\n",
       "    <tr>\n",
       "      <th>311</th>\n",
       "      <td>2023-12-22</td>\n",
       "      <td>Friday</td>\n",
       "    </tr>\n",
       "    <tr>\n",
       "      <th>312</th>\n",
       "      <td>2023-12-29</td>\n",
       "      <td>Friday</td>\n",
       "    </tr>\n",
       "  </tbody>\n",
       "</table>\n",
       "<p>313 rows × 2 columns</p>\n",
       "</div>"
      ],
      "text/plain": [
       "            ds holiday\n",
       "0   2018-01-05  Friday\n",
       "1   2018-01-12  Friday\n",
       "2   2018-01-19  Friday\n",
       "3   2018-01-26  Friday\n",
       "4   2018-02-02  Friday\n",
       "..         ...     ...\n",
       "308 2023-12-01  Friday\n",
       "309 2023-12-08  Friday\n",
       "310 2023-12-15  Friday\n",
       "311 2023-12-22  Friday\n",
       "312 2023-12-29  Friday\n",
       "\n",
       "[313 rows x 2 columns]"
      ]
     },
     "execution_count": 11,
     "metadata": {},
     "output_type": "execute_result"
    }
   ],
   "source": [
    "df_weekends = generate_weekends(start_date, end_date, weekend_days)\n",
    "df_weekends "
   ]
  },
  {
   "cell_type": "markdown",
   "id": "81e7d7fa",
   "metadata": {},
   "source": [
    "## Adding Extra Columns To dataframe"
   ]
  },
  {
   "cell_type": "code",
   "execution_count": 12,
   "id": "4b500580",
   "metadata": {},
   "outputs": [],
   "source": [
    "# Create a binary indicator for Ramadan\n",
    "data['is_ramadan'] = data['ds'].isin(ramadan_df['ds']).astype(int)\n",
    "prophet_data= data\n",
    "prophet_data['cap']=cap\n",
    "prophet_data['floor']=floor"
   ]
  },
  {
   "cell_type": "markdown",
   "id": "9e18da56",
   "metadata": {},
   "source": [
    "# Training"
   ]
  },
  {
   "cell_type": "markdown",
   "id": "677d797c",
   "metadata": {},
   "source": [
    "### Fitting the Model"
   ]
  },
  {
   "cell_type": "code",
   "execution_count": 13,
   "id": "63920a4c",
   "metadata": {
    "scrolled": false
   },
   "outputs": [
    {
     "name": "stderr",
     "output_type": "stream",
     "text": [
      "11:55:07 - cmdstanpy - INFO - Chain [1] start processing\n",
      "11:55:07 - cmdstanpy - INFO - Chain [1] done processing\n"
     ]
    },
    {
     "data": {
      "text/plain": [
       "<prophet.forecaster.Prophet at 0x7faf3eabaf50>"
      ]
     },
     "execution_count": 13,
     "metadata": {},
     "output_type": "execute_result"
    }
   ],
   "source": [
    "\n",
    "model = Prophet(\n",
    "                growth=growth  \n",
    "                #,mcmc_samples=300\n",
    "                ,\n",
    "                holidays=df_weekends\n",
    "                ,holidays_prior_scale=0.25\n",
    "                ,changepoint_prior_scale=0.10\n",
    "                ,seasonality_mode='multiplicative'\n",
    "                ,yearly_seasonality=10\n",
    "                ,weekly_seasonality=True\n",
    "                ,daily_seasonality=False\n",
    "                \n",
    "                )\n",
    "\n",
    "\n",
    "\n",
    "''' \n",
    "model = Prophet(\n",
    "               # growth=growth  \n",
    "               # ,\n",
    "                changepoints=changepoints   \n",
    "                ,interval_width=interval_width\n",
    "                ,holidays=df_weekends\n",
    "               )\n",
    "'''\n",
    "model.add_country_holidays(country_name=country_name)\n",
    "\n",
    "\n",
    "\n",
    "model.add_seasonality(\n",
    "                 name='Monthly_Ramadan_season'\n",
    "                ,period=29.53\n",
    "                ,fourier_order=10\n",
    "                ,condition_name='is_ramadan'\n",
    "                )\n",
    "\n",
    "\n",
    "\n",
    "model.fit(prophet_data)"
   ]
  },
  {
   "cell_type": "markdown",
   "id": "903aa2fc",
   "metadata": {},
   "source": [
    "# Generate future dates"
   ]
  },
  {
   "cell_type": "code",
   "execution_count": 14,
   "id": "4173757c",
   "metadata": {},
   "outputs": [],
   "source": [
    "### Generate future dates\n",
    "\n",
    "future_df = model.make_future_dataframe(periods=30)\n",
    "future_df['is_ramadan'] = future_df['ds'].isin(ramadan_df['ds']).astype(int)\n",
    "future_df['cap'] = cap\n",
    "future_df['floor'] = floor\n",
    "\n",
    "# Add the 'holidays' column to the future DataFrame\n",
    "future_df['holidays'] = 0\n",
    "future_df.loc[future_df['ds'].isin(df_weekends['ds']), 'holidays'] = 1\n",
    "\n",
    "### Generate predictions\n",
    "forecast = model.predict(future_df)\n",
    "\n",
    "### Analyze and visualize results\n",
    "forecast=forecast[['ds', 'yhat']].tail(30)# View predicted values for the next 30 days\n",
    "forecast.to_csv('/home/ajaz/DemandForecasting/Data/Output/forecast.csv')\n",
    " \n",
    "#print('Sucessfully Exported')"
   ]
  },
  {
   "cell_type": "code",
   "execution_count": 15,
   "id": "7ec663a4",
   "metadata": {},
   "outputs": [
    {
     "data": {
      "text/html": [
       "<div>\n",
       "<style scoped>\n",
       "    .dataframe tbody tr th:only-of-type {\n",
       "        vertical-align: middle;\n",
       "    }\n",
       "\n",
       "    .dataframe tbody tr th {\n",
       "        vertical-align: top;\n",
       "    }\n",
       "\n",
       "    .dataframe thead th {\n",
       "        text-align: right;\n",
       "    }\n",
       "</style>\n",
       "<table border=\"1\" class=\"dataframe\">\n",
       "  <thead>\n",
       "    <tr style=\"text-align: right;\">\n",
       "      <th></th>\n",
       "      <th>ds</th>\n",
       "      <th>is_ramadan</th>\n",
       "      <th>cap</th>\n",
       "      <th>floor</th>\n",
       "      <th>holidays</th>\n",
       "    </tr>\n",
       "  </thead>\n",
       "  <tbody>\n",
       "    <tr>\n",
       "      <th>0</th>\n",
       "      <td>2018-01-01</td>\n",
       "      <td>0</td>\n",
       "      <td>331830.048</td>\n",
       "      <td>0.0</td>\n",
       "      <td>0</td>\n",
       "    </tr>\n",
       "    <tr>\n",
       "      <th>1</th>\n",
       "      <td>2018-01-02</td>\n",
       "      <td>0</td>\n",
       "      <td>331830.048</td>\n",
       "      <td>0.0</td>\n",
       "      <td>0</td>\n",
       "    </tr>\n",
       "    <tr>\n",
       "      <th>2</th>\n",
       "      <td>2018-01-03</td>\n",
       "      <td>0</td>\n",
       "      <td>331830.048</td>\n",
       "      <td>0.0</td>\n",
       "      <td>0</td>\n",
       "    </tr>\n",
       "    <tr>\n",
       "      <th>3</th>\n",
       "      <td>2018-01-04</td>\n",
       "      <td>0</td>\n",
       "      <td>331830.048</td>\n",
       "      <td>0.0</td>\n",
       "      <td>0</td>\n",
       "    </tr>\n",
       "    <tr>\n",
       "      <th>4</th>\n",
       "      <td>2018-01-05</td>\n",
       "      <td>0</td>\n",
       "      <td>331830.048</td>\n",
       "      <td>0.0</td>\n",
       "      <td>1</td>\n",
       "    </tr>\n",
       "    <tr>\n",
       "      <th>...</th>\n",
       "      <td>...</td>\n",
       "      <td>...</td>\n",
       "      <td>...</td>\n",
       "      <td>...</td>\n",
       "      <td>...</td>\n",
       "    </tr>\n",
       "    <tr>\n",
       "      <th>2063</th>\n",
       "      <td>2023-08-26</td>\n",
       "      <td>0</td>\n",
       "      <td>331830.048</td>\n",
       "      <td>0.0</td>\n",
       "      <td>0</td>\n",
       "    </tr>\n",
       "    <tr>\n",
       "      <th>2064</th>\n",
       "      <td>2023-08-27</td>\n",
       "      <td>0</td>\n",
       "      <td>331830.048</td>\n",
       "      <td>0.0</td>\n",
       "      <td>0</td>\n",
       "    </tr>\n",
       "    <tr>\n",
       "      <th>2065</th>\n",
       "      <td>2023-08-28</td>\n",
       "      <td>0</td>\n",
       "      <td>331830.048</td>\n",
       "      <td>0.0</td>\n",
       "      <td>0</td>\n",
       "    </tr>\n",
       "    <tr>\n",
       "      <th>2066</th>\n",
       "      <td>2023-08-29</td>\n",
       "      <td>0</td>\n",
       "      <td>331830.048</td>\n",
       "      <td>0.0</td>\n",
       "      <td>0</td>\n",
       "    </tr>\n",
       "    <tr>\n",
       "      <th>2067</th>\n",
       "      <td>2023-08-30</td>\n",
       "      <td>0</td>\n",
       "      <td>331830.048</td>\n",
       "      <td>0.0</td>\n",
       "      <td>0</td>\n",
       "    </tr>\n",
       "  </tbody>\n",
       "</table>\n",
       "<p>2068 rows × 5 columns</p>\n",
       "</div>"
      ],
      "text/plain": [
       "             ds  is_ramadan         cap  floor  holidays\n",
       "0    2018-01-01           0  331830.048    0.0         0\n",
       "1    2018-01-02           0  331830.048    0.0         0\n",
       "2    2018-01-03           0  331830.048    0.0         0\n",
       "3    2018-01-04           0  331830.048    0.0         0\n",
       "4    2018-01-05           0  331830.048    0.0         1\n",
       "...         ...         ...         ...    ...       ...\n",
       "2063 2023-08-26           0  331830.048    0.0         0\n",
       "2064 2023-08-27           0  331830.048    0.0         0\n",
       "2065 2023-08-28           0  331830.048    0.0         0\n",
       "2066 2023-08-29           0  331830.048    0.0         0\n",
       "2067 2023-08-30           0  331830.048    0.0         0\n",
       "\n",
       "[2068 rows x 5 columns]"
      ]
     },
     "execution_count": 15,
     "metadata": {},
     "output_type": "execute_result"
    }
   ],
   "source": [
    "future_df"
   ]
  },
  {
   "cell_type": "code",
   "execution_count": 16,
   "id": "efcaf244",
   "metadata": {},
   "outputs": [],
   "source": [
    "#future_df.head(2)"
   ]
  },
  {
   "cell_type": "code",
   "execution_count": 17,
   "id": "470636d8",
   "metadata": {},
   "outputs": [],
   "source": [
    "#fig = model.plot(model.predict(future_df))"
   ]
  },
  {
   "cell_type": "markdown",
   "id": "33ba85af",
   "metadata": {},
   "source": [
    "## Cross Validation"
   ]
  },
  {
   "cell_type": "code",
   "execution_count": 18,
   "id": "b4410459",
   "metadata": {
    "scrolled": false
   },
   "outputs": [],
   "source": [
    "#df_cv = cross_validation(model, initial='730 days', period='180 days', horizon = '30 days')\n",
    "#df_p = performance_metrics(df_cv)\n",
    "#df_p.head(2)"
   ]
  },
  {
   "cell_type": "code",
   "execution_count": 19,
   "id": "2b09eb83",
   "metadata": {},
   "outputs": [],
   "source": [
    "#df_p = performance_metrics(df_cv)\n",
    "## Mean MAPE across all horizons\n",
    "#overall_mape = np.mean(df_p['smape'])\n",
    "# Median MAPE (more robust to outliers)\n",
    "#overall_mape_median = np.median(df_p['smape'])\n",
    "#print('Sucessfully Exported')\n",
    "# print(overall_mape_median)"
   ]
  },
  {
   "cell_type": "markdown",
   "id": "d6555bae",
   "metadata": {
    "scrolled": true
   },
   "source": [
    "# Comparision of ACtual And predicted Data"
   ]
  },
  {
   "cell_type": "code",
   "execution_count": 20,
   "id": "ae7faccb",
   "metadata": {},
   "outputs": [
    {
     "data": {
      "image/png": "[encoded data removed]",
      "text/plain": [
       "<Figure size 1500x500 with 1 Axes>"
      ]
     },
     "metadata": {},
     "output_type": "display_data"
    }
   ],
   "source": [
    "#Create comment for the following code\n",
    "\n",
    "actualdata = pd.read_csv('/home/ajaz/DemandForecasting/Data/actualdata.csv')\n",
    "actualdata = actualdata.rename(columns={'TransactionDate': 'ds', 'GroupCostPrice': 'actual'})\n",
    "actualdata['ds']=pd.to_datetime(actualdata['ds'])\n",
    "\n",
    "\n",
    "predicteddata =forecast[['ds', 'yhat']].tail(30)\n",
    "predicteddata = predicteddata.rename(columns={'ds': 'ds', 'yhat': 'predicted'})\n",
    "predicteddata['ds']=pd.to_datetime(predicteddata['ds'])\n",
    "\n",
    "finaldata = pd.merge(actualdata,predicteddata,on='ds')\n",
    "finaldata.plot(x='ds', y=['actual', 'predicted'], kind='line')\n",
    "#show the day name x axis\n",
    "plt.xticks(rotation=90)\n",
    "plt.xlabel('Date')\n",
    "fig = plt.gcf()\n",
    "fig.set_size_inches(15, 5)\n",
    "\n",
    "#finaldata.to_csv('/home/ajaz/DemandForecasting/Data/final.csv')"
   ]
  },
  {
   "cell_type": "code",
   "execution_count": null,
   "id": "645ef5fc",
   "metadata": {},
   "outputs": [],
   "source": []
  }
 ],
 "metadata": {
  "kernelspec": {
   "display_name": "Python 3 (ipykernel)",
   "language": "python",
   "name": "python3"
  },
  "language_info": {
   "codemirror_mode": {
    "name": "ipython",
    "version": 3
   },
   "file_extension": ".py",
   "mimetype": "text/x-python",
   "name": "python",
   "nbconvert_exporter": "python",
   "pygments_lexer": "ipython3",
   "version": "3.11.5"
  }
 },
 "nbformat": 4,
 "nbformat_minor": 5
}
